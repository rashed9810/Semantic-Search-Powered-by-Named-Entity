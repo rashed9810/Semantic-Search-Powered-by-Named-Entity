{
 "cells": [
  {
   "cell_type": "markdown",
   "id": "8f4d86b5",
   "metadata": {},
   "source": [
    "# Named Entity Recognition"
   ]
  },
  {
   "cell_type": "code",
   "execution_count": 23,
   "id": "d409038d",
   "metadata": {},
   "outputs": [],
   "source": [
    "# imports\n",
    "\n",
    "from transformers import AutoTokenizer, AutoModelForTokenClassification\n",
    "from transformers import pipeline\n",
    "\n",
    "import torch"
   ]
  },
  {
   "cell_type": "code",
   "execution_count": 18,
   "id": "bc7fecbf",
   "metadata": {},
   "outputs": [],
   "source": [
    "model_id = \"dslim/bert-base-NER\" # hugging face"
   ]
  },
  {
   "cell_type": "code",
   "execution_count": 28,
   "id": "901c90d1",
   "metadata": {},
   "outputs": [],
   "source": [
    "tokenizer_ner = AutoTokenizer.from_pretrained(model_id) # hugging face model"
   ]
  },
  {
   "cell_type": "code",
   "execution_count": 20,
   "id": "c1d770dd",
   "metadata": {},
   "outputs": [],
   "source": [
    "ner_model = AutoModelForTokenClassification.from_pretrained(model_id)"
   ]
  },
  {
   "cell_type": "code",
   "execution_count": 22,
   "id": "e726021d",
   "metadata": {},
   "outputs": [],
   "source": [
    "# ner_model"
   ]
  },
  {
   "cell_type": "code",
   "execution_count": 27,
   "id": "26459649",
   "metadata": {},
   "outputs": [],
   "source": [
    "device = torch.cuda.current_device() if torch.cuda.is_available() else 'cpu'"
   ]
  },
  {
   "cell_type": "code",
   "execution_count": 31,
   "id": "12224b59",
   "metadata": {},
   "outputs": [],
   "source": [
    "# nlp pipeline\n",
    "\n",
    "nlp = pipeline('ner',\n",
    "              model = ner_model,\n",
    "              tokenizer = tokenizer_ner,\n",
    "              aggregation_strategy = 'max',\n",
    "              device= None)"
   ]
  },
  {
   "cell_type": "code",
   "execution_count": 35,
   "id": "7cf9c3dc",
   "metadata": {},
   "outputs": [
    {
     "data": {
      "text/plain": [
       "[{'entity_group': 'PER',\n",
       "  'score': 0.9996043,\n",
       "  'word': 'Mohsin',\n",
       "  'start': 11,\n",
       "  'end': 17},\n",
       " {'entity_group': 'ORG',\n",
       "  'score': 0.54214174,\n",
       "  'word': 'Udemy',\n",
       "  'start': 29,\n",
       "  'end': 34}]"
      ]
     },
     "execution_count": 35,
     "metadata": {},
     "output_type": "execute_result"
    }
   ],
   "source": [
    "nlp('My name is Mohsin, I work in Udemy, I love AI')"
   ]
  },
  {
   "cell_type": "code",
   "execution_count": 36,
   "id": "a29ceaed",
   "metadata": {},
   "outputs": [],
   "source": [
    "text = \"“We formed our partnership with OpenAI around a shared ambition to \\\n",
    "responsibly advance cutting-edge AI research and democratize AI as a new \\\n",
    "technology platform,” said Satya Nadella, Chairman and CEO, Microsoft. \\\n",
    "“In this next phase of our partnership, developers and organizations across \\\n",
    "industries will have access to the best AI infrastructure, models, and toolchain \\\n",
    "with Azure to build and run their applications.”\""
   ]
  },
  {
   "cell_type": "code",
   "execution_count": 37,
   "id": "477e5556",
   "metadata": {},
   "outputs": [
    {
     "data": {
      "text/plain": [
       "[{'entity_group': 'ORG',\n",
       "  'score': 0.99865675,\n",
       "  'word': 'OpenAI',\n",
       "  'start': 32,\n",
       "  'end': 38},\n",
       " {'entity_group': 'MISC',\n",
       "  'score': 0.9881143,\n",
       "  'word': 'AI',\n",
       "  'start': 100,\n",
       "  'end': 102},\n",
       " {'entity_group': 'MISC',\n",
       "  'score': 0.97257894,\n",
       "  'word': 'AI',\n",
       "  'start': 128,\n",
       "  'end': 130},\n",
       " {'entity_group': 'PER',\n",
       "  'score': 0.99965036,\n",
       "  'word': 'Satya Nadella',\n",
       "  'start': 167,\n",
       "  'end': 180},\n",
       " {'entity_group': 'ORG',\n",
       "  'score': 0.9988427,\n",
       "  'word': 'Microsoft',\n",
       "  'start': 200,\n",
       "  'end': 209},\n",
       " {'entity_group': 'MISC',\n",
       "  'score': 0.9932892,\n",
       "  'word': 'AI',\n",
       "  'start': 327,\n",
       "  'end': 329},\n",
       " {'entity_group': 'ORG',\n",
       "  'score': 0.9938997,\n",
       "  'word': 'Azure',\n",
       "  'start': 373,\n",
       "  'end': 378}]"
      ]
     },
     "execution_count": 37,
     "metadata": {},
     "output_type": "execute_result"
    }
   ],
   "source": [
    "nlp(text)"
   ]
  },
  {
   "cell_type": "code",
   "execution_count": 38,
   "id": "02bf98bd",
   "metadata": {},
   "outputs": [
    {
     "data": {
      "text/plain": [
       "'Azure'"
      ]
     },
     "execution_count": 38,
     "metadata": {},
     "output_type": "execute_result"
    }
   ],
   "source": [
    "text[373:378]"
   ]
  },
  {
   "cell_type": "code",
   "execution_count": null,
   "id": "3a81dfd4",
   "metadata": {},
   "outputs": [],
   "source": []
  }
 ],
 "metadata": {
  "kernelspec": {
   "display_name": "pinecone_env",
   "language": "python",
   "name": "pinecone_env"
  },
  "language_info": {
   "codemirror_mode": {
    "name": "ipython",
    "version": 3
   },
   "file_extension": ".py",
   "mimetype": "text/x-python",
   "name": "python",
   "nbconvert_exporter": "python",
   "pygments_lexer": "ipython3",
   "version": "3.10.6"
  }
 },
 "nbformat": 4,
 "nbformat_minor": 5
}
