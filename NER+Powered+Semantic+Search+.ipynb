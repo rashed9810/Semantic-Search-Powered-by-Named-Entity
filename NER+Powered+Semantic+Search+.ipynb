{
 "cells": [
  {
   "cell_type": "markdown",
   "id": "e559f380",
   "metadata": {},
   "source": [
    "# NER Powered Semantic Search "
   ]
  },
  {
   "cell_type": "markdown",
   "id": "e537aef3",
   "metadata": {},
   "source": [
    "### Setup Environment"
   ]
  },
  {
   "cell_type": "code",
   "execution_count": 2,
   "id": "38eac55a",
   "metadata": {},
   "outputs": [
    {
     "name": "stderr",
     "output_type": "stream",
     "text": [
      "/home/mohsin/.local/lib/python3.10/site-packages/pinecone/index.py:4: TqdmExperimentalWarning: Using `tqdm.autonotebook.tqdm` in notebook mode. Use `tqdm.tqdm` instead to force console mode (e.g. in jupyter console)\n",
      "  from tqdm.autonotebook import tqdm\n"
     ]
    }
   ],
   "source": [
    "# init pinecone\n",
    "\n",
    "import pinecone\n",
    "from tqdm.autonotebook import tqdm # warning taken care of\n",
    "\n",
    "# API_KEY = \"YOUR API KEY\"\n",
    "# ENV = \"YOUR ENVIRONMENT\"\n",
    "\n",
    "pinecone.init(api_key = API_KEY, environment = ENV)\n",
    "index = pinecone.Index(\"medium-data\")"
   ]
  },
  {
   "cell_type": "code",
   "execution_count": 3,
   "id": "2fd00bcf",
   "metadata": {},
   "outputs": [],
   "source": [
    "# clean up pinecone index\n",
    "index.delete(delete_all=True)"
   ]
  },
  {
   "cell_type": "code",
   "execution_count": 5,
   "id": "84b80055",
   "metadata": {},
   "outputs": [],
   "source": [
    "# delete index , dimensino no longer useful"
   ]
  },
  {
   "cell_type": "code",
   "execution_count": 9,
   "id": "dbcc0a7a",
   "metadata": {},
   "outputs": [],
   "source": [
    "# load libraries for NER \n",
    "\n",
    "from transformers import AutoTokenizer, AutoModelForTokenClassification\n",
    "from transformers import pipeline\n",
    "import torch\n"
   ]
  },
  {
   "cell_type": "markdown",
   "id": "a6969324",
   "metadata": {},
   "source": [
    "### NER Engine"
   ]
  },
  {
   "cell_type": "code",
   "execution_count": null,
   "id": "4a3c9844",
   "metadata": {},
   "outputs": [],
   "source": [
    "# init NER engine\n",
    "\n",
    "model_id = 'dslim/bert-base-NER'\n",
    "\n",
    "tokenizer = AutoTokenizer.from_pretrained(model_id)\n",
    "model = AutoModelForTokenClassification.from_pretrained(model_id)\n",
    "\n",
    "# nlp pipeline\n",
    "\n",
    "nlp = pipeline('ner',\n",
    "              model=model,\n",
    "              tokenizer=tokenizer,\n",
    "              aggregation_strategy= 'max',\n",
    "              device= 'cpu') \n",
    "# nlp(\"Bill Gates is the founder of Microsoft\")"
   ]
  },
  {
   "cell_type": "markdown",
   "id": "da04c986",
   "metadata": {},
   "source": [
    "### Retriever"
   ]
  },
  {
   "cell_type": "code",
   "execution_count": null,
   "id": "f2747186",
   "metadata": {},
   "outputs": [],
   "source": [
    "# load libraries for retriever\n",
    "\n",
    "from sentence_transformers import SentenceTransformer\n",
    "\n",
    "\n",
    "# https://huggingface.co/flax-sentence-embeddings/all_datasets_v3_mpnet-base\n",
    "retriever = SentenceTransformer(\n",
    "    \"flax-sentence-embeddings/all_datasets_v3_mpnet-base\")"
   ]
  },
  {
   "cell_type": "code",
   "execution_count": 18,
   "id": "c3142139",
   "metadata": {},
   "outputs": [
    {
     "data": {
      "text/plain": [
       "SentenceTransformer(\n",
       "  (0): Transformer({'max_seq_length': 128, 'do_lower_case': False}) with Transformer model: MPNetModel \n",
       "  (1): Pooling({'word_embedding_dimension': 768, 'pooling_mode_cls_token': False, 'pooling_mode_mean_tokens': True, 'pooling_mode_max_tokens': False, 'pooling_mode_mean_sqrt_len_tokens': False})\n",
       "  (2): Normalize()\n",
       ")"
      ]
     },
     "execution_count": 18,
     "metadata": {},
     "output_type": "execute_result"
    }
   ],
   "source": [
    "retriever"
   ]
  },
  {
   "cell_type": "code",
   "execution_count": null,
   "id": "ff42acf7",
   "metadata": {},
   "outputs": [],
   "source": [
    "# Create Pinecone Index\n",
    "pinecone.create_index(\"medium-data\", dimension= 768, metric=\"cosine\")\n",
    "index= pinecone.Index(\"medium-data\")"
   ]
  },
  {
   "cell_type": "markdown",
   "id": "b31bb742",
   "metadata": {},
   "source": [
    "### Data Prep"
   ]
  },
  {
   "cell_type": "code",
   "execution_count": 22,
   "id": "3a39745f",
   "metadata": {},
   "outputs": [],
   "source": [
    "from datasets import load_dataset"
   ]
  },
  {
   "cell_type": "code",
   "execution_count": 204,
   "id": "9247ab3c",
   "metadata": {},
   "outputs": [
    {
     "name": "stderr",
     "output_type": "stream",
     "text": [
      "Found cached dataset csv (/home/mohsin/.cache/huggingface/datasets/fabiochiu___csv/fabiochiu--medium-articles-96791ff68926910d/0.0.0/6954658bab30a358235fa864b05cf819af0e179325c740e4bc853bcc7ec513e1)\n"
     ]
    }
   ],
   "source": [
    "# Obtain Raw Data\n",
    "\n",
    "df = load_dataset(\n",
    "    \"fabiochiu/medium-articles\",\n",
    "    data_files=\"medium_articles.csv\",\n",
    "    split=\"train\"\n",
    ").to_pandas()\n",
    "\n",
    "df = df.dropna().sample(10000, random_state=45) # might take 30mins to 1hr\n",
    "\n",
    "df['text_extended'] = df['title'] + '.' + df['text'].str[:1000]\n"
   ]
  },
  {
   "cell_type": "code",
   "execution_count": 208,
   "id": "11d8c94e",
   "metadata": {},
   "outputs": [
    {
     "data": {
      "text/html": [
       "<div>\n",
       "<style scoped>\n",
       "    .dataframe tbody tr th:only-of-type {\n",
       "        vertical-align: middle;\n",
       "    }\n",
       "\n",
       "    .dataframe tbody tr th {\n",
       "        vertical-align: top;\n",
       "    }\n",
       "\n",
       "    .dataframe thead th {\n",
       "        text-align: right;\n",
       "    }\n",
       "</style>\n",
       "<table border=\"1\" class=\"dataframe\">\n",
       "  <thead>\n",
       "    <tr style=\"text-align: right;\">\n",
       "      <th></th>\n",
       "      <th>title</th>\n",
       "      <th>text</th>\n",
       "      <th>url</th>\n",
       "      <th>authors</th>\n",
       "      <th>timestamp</th>\n",
       "      <th>tags</th>\n",
       "      <th>text_extended</th>\n",
       "    </tr>\n",
       "  </thead>\n",
       "  <tbody>\n",
       "    <tr>\n",
       "      <th>189059</th>\n",
       "      <td>How do you move a WordPress website to another...</td>\n",
       "      <td>Photo by Moritz Mentges on Unsplash\\n\\nMoving ...</td>\n",
       "      <td>https://medium.com/@dyderik/how-do-you-move-a-...</td>\n",
       "      <td>['Richard Detering']</td>\n",
       "      <td>2021-11-13 05:42:44.009000+00:00</td>\n",
       "      <td>['Web Hosting Services', 'Web Hosting', 'Trans...</td>\n",
       "      <td>How do you move a WordPress website to another...</td>\n",
       "    </tr>\n",
       "    <tr>\n",
       "      <th>96618</th>\n",
       "      <td>A Long December</td>\n",
       "      <td>In my quest to find ways of engaging with the ...</td>\n",
       "      <td>https://medium.com/@keenekomeskleen/a-long-dec...</td>\n",
       "      <td>['Matt Keene']</td>\n",
       "      <td>2020-12-16 19:47:55.820000+00:00</td>\n",
       "      <td>['Society', 'Politics', 'Poverty', 'Pandemic',...</td>\n",
       "      <td>A Long December.In my quest to find ways of en...</td>\n",
       "    </tr>\n",
       "    <tr>\n",
       "      <th>46027</th>\n",
       "      <td>I Have Decided to Stop Being the Michael Scott...</td>\n",
       "      <td>Writing is, for me, a beloved pastime. I’ve do...</td>\n",
       "      <td>https://pisancantos43.medium.com/i-have-decide...</td>\n",
       "      <td>['Anthony Aycock']</td>\n",
       "      <td>2019-05-12 20:04:59.371000+00:00</td>\n",
       "      <td>['Teaching', 'Television', 'College', 'Writing...</td>\n",
       "      <td>I Have Decided to Stop Being the Michael Scott...</td>\n",
       "    </tr>\n",
       "    <tr>\n",
       "      <th>145790</th>\n",
       "      <td>EU fully committed to sustainable development</td>\n",
       "      <td>European Commission Vice-President Jyrki Katai...</td>\n",
       "      <td>https://medium.com/ecajournal/eu-fully-committ...</td>\n",
       "      <td>['European Court Of Auditors']</td>\n",
       "      <td>2019-07-24 13:15:13.130000+00:00</td>\n",
       "      <td>['Sustainable Development']</td>\n",
       "      <td>EU fully committed to sustainable development....</td>\n",
       "    </tr>\n",
       "    <tr>\n",
       "      <th>132859</th>\n",
       "      <td>HD ▷..! เรื่องเต็ม 【M-Thai ดาบพิฆาตอสูร เดอะมู...</td>\n",
       "      <td>TAG::\\n\\nดาบพิฆาตอสูร เดอะมูฟวี่ ศึกรถไฟสู่นิร...</td>\n",
       "      <td>https://medium.com/@bangetanjay405/hd-%E0%B9%8...</td>\n",
       "      <td>[]</td>\n",
       "      <td>2020-12-12 14:33:34.766000+00:00</td>\n",
       "      <td>['Thailand', 'Japan', 'Taiwan', 'Hong Kong', '...</td>\n",
       "      <td>HD ▷..! เรื่องเต็ม 【M-Thai ดาบพิฆาตอสูร เดอะมู...</td>\n",
       "    </tr>\n",
       "  </tbody>\n",
       "</table>\n",
       "</div>"
      ],
      "text/plain": [
       "                                                    title  ...                                      text_extended\n",
       "189059  How do you move a WordPress website to another...  ...  How do you move a WordPress website to another...\n",
       "96618                                     A Long December  ...  A Long December.In my quest to find ways of en...\n",
       "46027   I Have Decided to Stop Being the Michael Scott...  ...  I Have Decided to Stop Being the Michael Scott...\n",
       "145790      EU fully committed to sustainable development  ...  EU fully committed to sustainable development....\n",
       "132859  HD ▷..! เรื่องเต็ม 【M-Thai ดาบพิฆาตอสูร เดอะมู...  ...  HD ▷..! เรื่องเต็ม 【M-Thai ดาบพิฆาตอสูร เดอะมู...\n",
       "\n",
       "[5 rows x 7 columns]"
      ]
     },
     "execution_count": 208,
     "metadata": {},
     "output_type": "execute_result"
    }
   ],
   "source": [
    "df.head()"
   ]
  },
  {
   "cell_type": "code",
   "execution_count": 175,
   "id": "a6fd0fc5",
   "metadata": {},
   "outputs": [],
   "source": [
    "# len(nlp(df_batch)) # list of lst"
   ]
  },
  {
   "cell_type": "markdown",
   "id": "57f065d7",
   "metadata": {},
   "source": [
    "### NER Helper Function"
   ]
  },
  {
   "cell_type": "code",
   "execution_count": 223,
   "id": "3253d6e9",
   "metadata": {},
   "outputs": [],
   "source": [
    "# helper function for extracting entities of a batch of texts\n",
    "\n",
    "def extract_entities(list_of_text):\n",
    "    entities = []\n",
    "    for doc in list_of_text: \n",
    "        entities.append([item['word'] for item in nlp(doc)])\n",
    "        # list of entities for 1 doc\n",
    "    return entities"
   ]
  },
  {
   "cell_type": "code",
   "execution_count": 178,
   "id": "75ba2589",
   "metadata": {},
   "outputs": [],
   "source": [
    "# embedding\n",
    "\n",
    "# len(retriever.encode(df_batch))\n",
    "# len(retriever.encode(df_batch[0])) # try for one doc\n",
    "# embedding for batch\n",
    "# emb = retriever.encode(df_batch).tolist() # array to python list"
   ]
  },
  {
   "cell_type": "markdown",
   "id": "b9b819cc",
   "metadata": {},
   "source": [
    "### Batch Upsert"
   ]
  },
  {
   "cell_type": "code",
   "execution_count": 206,
   "id": "2ff7ce8a",
   "metadata": {
    "scrolled": true
   },
   "outputs": [],
   "source": [
    "# upsert data\n",
    "\n",
    "from tqdm.auto import tqdm\n",
    "\n",
    "batch_size = 64\n",
    "\n",
    "for i in range(0, len(df), batch_size):\n",
    "    i_end = min(i+batch_size, len(df))\n",
    "    # print(i, i_end) # starting and ending index of each batch\n",
    "    \n",
    "    # get a batch of data\n",
    "    df_batch = df.iloc[i: i_end].copy()\n",
    "    \n",
    "    # embedding\n",
    "    emb = retriever.encode(df_batch['text_extended'].tolist()\n",
    "                          ).tolist() # array to python list\n",
    "    \n",
    "    # ner extraction\n",
    "    entities = extract_entities(df_batch['text_extended'].tolist())\n",
    "    \n",
    "    # [[]] --> [set1, set2, ], remove duplicate entities    \n",
    "    df_batch['named_entity'] = [list(set(entity)) for entity in entities] # one list per document\n",
    "    \n",
    "    # create meta data\n",
    "    df_batch = df_batch.drop('text', axis=1)\n",
    "    \n",
    "    meta_data = df_batch.to_dict(orient='records') # pd.df to dictionary\n",
    "    \n",
    "    # create ids\n",
    "    \n",
    "    ids = [f\"{idx}\" for idx in range(i, i_end)] #\n",
    "    \n",
    "    # upsert\n",
    "    \n",
    "    vectors_to_upsert = list(zip(ids, emb, meta_data))  # nd array to python list\n",
    "    \n",
    "    _ = index.upsert(vectors= vectors_to_upsert)  \n",
    "    \n",
    "    \n",
    "\n"
   ]
  },
  {
   "cell_type": "code",
   "execution_count": 207,
   "id": "0bb86227",
   "metadata": {
    "scrolled": true
   },
   "outputs": [],
   "source": [
    "# index.describe_index_stats()"
   ]
  },
  {
   "cell_type": "markdown",
   "id": "27b5c5e5",
   "metadata": {},
   "source": [
    "### Query data"
   ]
  },
  {
   "cell_type": "code",
   "execution_count": 248,
   "id": "28a42866",
   "metadata": {},
   "outputs": [],
   "source": [
    "query = \"How to make a Wordpress website?\"  # Natural Language\n",
    "\n",
    "emb_qx = retriever.encode(query).tolist() # embedded query vector\n",
    "\n",
    "ne = extract_entities([query])[0] # Named entity as a search filter"
   ]
  },
  {
   "cell_type": "code",
   "execution_count": 249,
   "id": "89ccbf6a",
   "metadata": {},
   "outputs": [],
   "source": [
    "xc = index.query(emb_qx, top_k= 5, include_metadata=True,\n",
    "           filter = {\"named_entity\": {\"$in\" : ne}})"
   ]
  },
  {
   "cell_type": "code",
   "execution_count": 253,
   "id": "01d0d625",
   "metadata": {},
   "outputs": [
    {
     "name": "stdout",
     "output_type": "stream",
     "text": [
      "0.294890732   ['Wordpress', 'Both Sides of the Table']\n",
      "0.207520485   ['Wordpress', 'Opencart', 'Laraval', 'Magento 2', 'Squarespace', 'Wix', 'Joomla', 'Zencart Cakephp', 'CMS', 'Social Media Management', 'Shopify', 'Media', 'Magento', 'Prodigitaly', 'Angular', 'Banner', 'IOS', 'Drupal', 'Volusion', 'media', 'Codeignitor', 'Weebly', 'Technologies and Platform Wordpress', 'Woocomerce', 'Bigcommerce']\n",
      "0.187706783   ['CMS', 'Wordpress', 'Industry', 'Readymag']\n",
      "0.153713182   ['YouTube', 'Wordpress', 'HCS Raleigh Kickoff Major', 'Cloud9', 'Search', 'Medium', 'Engine', 'KeenGamer']\n",
      "-0.00761373667   ['Wordpress', 'Godden & Baddeley', 'Abernethy']\n"
     ]
    }
   ],
   "source": [
    "for result in xc['matches']:\n",
    "    print(result['score'], \" \", result['metadata']['named_entity'])"
   ]
  },
  {
   "cell_type": "code",
   "execution_count": null,
   "id": "773447ae",
   "metadata": {},
   "outputs": [],
   "source": []
  }
 ],
 "metadata": {
  "kernelspec": {
   "display_name": "pinecone_env",
   "language": "python",
   "name": "pinecone_env"
  },
  "language_info": {
   "codemirror_mode": {
    "name": "ipython",
    "version": 3
   },
   "file_extension": ".py",
   "mimetype": "text/x-python",
   "name": "python",
   "nbconvert_exporter": "python",
   "pygments_lexer": "ipython3",
   "version": "3.10.6"
  }
 },
 "nbformat": 4,
 "nbformat_minor": 5
}
